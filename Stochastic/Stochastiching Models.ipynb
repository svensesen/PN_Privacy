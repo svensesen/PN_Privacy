{
 "cells": [
  {
   "cell_type": "code",
   "execution_count": 1,
   "id": "54ade6f4",
   "metadata": {},
   "outputs": [],
   "source": [
    "import os \n",
    "import sys\n",
    "\n",
    "current_directory = os.getcwd()\n",
    "code_folder = os.path.abspath(os.path.join(current_directory, \"..\"))\n",
    "sys.path.insert(1, code_folder)\n",
    "\n",
    "from Pytri.PetriNet import *\n",
    "from Estimator import *\n",
    "\n",
    "import pm4py\n",
    "import pandas as pd"
   ]
  },
  {
   "cell_type": "code",
   "execution_count": 2,
   "id": "2778e2f8",
   "metadata": {},
   "outputs": [],
   "source": [
    "current_directory = os.getcwd()\n",
    "two_folders_up = os.path.abspath(os.path.join(current_directory, '..', '..'))\n",
    "data_folder = os.path.join(two_folders_up, 'data')"
   ]
  },
  {
   "cell_type": "code",
   "execution_count": 3,
   "id": "d8a46d9f",
   "metadata": {},
   "outputs": [],
   "source": [
    "datasets = [\"BPI 2020/DomesticDeclarations\", \"BPI 2020/RequestForPayment\", \"Sepsis Cases\", \n",
    "            \"Traffic Fines\", \"Hospital Billing\", \"BPI 2020/InternationalDeclarations\", \"BPI 2020/PrepaidTravelCost\",\n",
    "            \"BPI 2012\",\"BPI 2020/PermitLog\",  \"BPI 2017\"]\n",
    "\n",
    "models = [\"Alpha\", \"Alpha+\", \"IM\", \"IMf20\", \"Heuristic\", \"Flower\"] # Also Log"
   ]
  },
  {
   "cell_type": "code",
   "execution_count": 4,
   "id": "ada9656c",
   "metadata": {},
   "outputs": [
    {
     "name": "stdout",
     "output_type": "stream",
     "text": [
      "BPI 2020/DomesticDeclarations\n"
     ]
    },
    {
     "data": {
      "application/vnd.jupyter.widget-view+json": {
       "model_id": "ce9c3e1f2e6b4626b56c664e197353a7",
       "version_major": 2,
       "version_minor": 0
      },
      "text/plain": [
       "parsing log, completed traces ::   0%|          | 0/10500 [00:00<?, ?it/s]"
      ]
     },
     "metadata": {},
     "output_type": "display_data"
    },
    {
     "name": "stdout",
     "output_type": "stream",
     "text": [
      "Alpha\n",
      "Alpha+\n",
      "IM\n",
      "IMf20\n",
      "Heuristic\n",
      "Flower\n",
      "BPI 2020/RequestForPayment\n"
     ]
    },
    {
     "data": {
      "application/vnd.jupyter.widget-view+json": {
       "model_id": "414a579faae74112b8a031c7f856ad47",
       "version_major": 2,
       "version_minor": 0
      },
      "text/plain": [
       "parsing log, completed traces ::   0%|          | 0/6886 [00:00<?, ?it/s]"
      ]
     },
     "metadata": {},
     "output_type": "display_data"
    },
    {
     "name": "stdout",
     "output_type": "stream",
     "text": [
      "Alpha\n",
      "Alpha+\n",
      "IM\n",
      "IMf20\n",
      "Heuristic\n",
      "Flower\n",
      "Sepsis Cases\n"
     ]
    },
    {
     "data": {
      "application/vnd.jupyter.widget-view+json": {
       "model_id": "eab9c115d16849c2868a75f561bfdab7",
       "version_major": 2,
       "version_minor": 0
      },
      "text/plain": [
       "parsing log, completed traces ::   0%|          | 0/1050 [00:00<?, ?it/s]"
      ]
     },
     "metadata": {},
     "output_type": "display_data"
    },
    {
     "name": "stdout",
     "output_type": "stream",
     "text": [
      "Alpha\n",
      "Alpha+\n",
      "IM\n",
      "IMf20\n",
      "Heuristic\n",
      "Flower\n",
      "Traffic Fines\n"
     ]
    },
    {
     "data": {
      "application/vnd.jupyter.widget-view+json": {
       "model_id": "1121eb6f7bf44e10ba8cb88fb09617ef",
       "version_major": 2,
       "version_minor": 0
      },
      "text/plain": [
       "parsing log, completed traces ::   0%|          | 0/150370 [00:00<?, ?it/s]"
      ]
     },
     "metadata": {},
     "output_type": "display_data"
    },
    {
     "name": "stdout",
     "output_type": "stream",
     "text": [
      "Alpha\n",
      "Alpha+\n",
      "IM\n",
      "IMf20\n",
      "Heuristic\n",
      "Flower\n",
      "Hospital Billing\n"
     ]
    },
    {
     "data": {
      "application/vnd.jupyter.widget-view+json": {
       "model_id": "5ac5465b2cf345b0967c58ab51f8effc",
       "version_major": 2,
       "version_minor": 0
      },
      "text/plain": [
       "parsing log, completed traces ::   0%|          | 0/100000 [00:00<?, ?it/s]"
      ]
     },
     "metadata": {},
     "output_type": "display_data"
    },
    {
     "name": "stdout",
     "output_type": "stream",
     "text": [
      "Alpha\n",
      "Alpha+\n",
      "IM\n",
      "IMf20\n",
      "Heuristic\n",
      "Flower\n",
      "BPI 2020/InternationalDeclarations\n"
     ]
    },
    {
     "data": {
      "application/vnd.jupyter.widget-view+json": {
       "model_id": "0c68270d7c3942fabe250bee2bd75d34",
       "version_major": 2,
       "version_minor": 0
      },
      "text/plain": [
       "parsing log, completed traces ::   0%|          | 0/6449 [00:00<?, ?it/s]"
      ]
     },
     "metadata": {},
     "output_type": "display_data"
    },
    {
     "name": "stdout",
     "output_type": "stream",
     "text": [
      "Alpha\n",
      "Alpha+\n",
      "IM\n",
      "IMf20\n",
      "Heuristic\n",
      "Flower\n",
      "BPI 2020/PrepaidTravelCost\n"
     ]
    },
    {
     "data": {
      "application/vnd.jupyter.widget-view+json": {
       "model_id": "327704eac2e348d6872951680f6734f0",
       "version_major": 2,
       "version_minor": 0
      },
      "text/plain": [
       "parsing log, completed traces ::   0%|          | 0/2099 [00:00<?, ?it/s]"
      ]
     },
     "metadata": {},
     "output_type": "display_data"
    },
    {
     "name": "stdout",
     "output_type": "stream",
     "text": [
      "Alpha\n",
      "Alpha+\n",
      "IM\n",
      "IMf20\n",
      "Heuristic\n",
      "Flower\n",
      "BPI 2012\n"
     ]
    },
    {
     "data": {
      "application/vnd.jupyter.widget-view+json": {
       "model_id": "d2e1c45b7a834777b0998199b9e4282d",
       "version_major": 2,
       "version_minor": 0
      },
      "text/plain": [
       "parsing log, completed traces ::   0%|          | 0/13087 [00:00<?, ?it/s]"
      ]
     },
     "metadata": {},
     "output_type": "display_data"
    },
    {
     "name": "stdout",
     "output_type": "stream",
     "text": [
      "Alpha\n",
      "Alpha+\n",
      "IM\n",
      "IMf20\n",
      "Heuristic\n",
      "Flower\n",
      "BPI 2020/PermitLog\n"
     ]
    },
    {
     "data": {
      "application/vnd.jupyter.widget-view+json": {
       "model_id": "94cfc23be0664f37bf1072976724e842",
       "version_major": 2,
       "version_minor": 0
      },
      "text/plain": [
       "parsing log, completed traces ::   0%|          | 0/7065 [00:00<?, ?it/s]"
      ]
     },
     "metadata": {},
     "output_type": "display_data"
    },
    {
     "name": "stdout",
     "output_type": "stream",
     "text": [
      "Alpha\n",
      "Alpha+\n",
      "IM\n",
      "IMf20\n",
      "Heuristic\n",
      "Flower\n",
      "BPI 2017\n"
     ]
    },
    {
     "data": {
      "application/vnd.jupyter.widget-view+json": {
       "model_id": "ec76823e398044a2bde797d0664a2c79",
       "version_major": 2,
       "version_minor": 0
      },
      "text/plain": [
       "parsing log, completed traces ::   0%|          | 0/31509 [00:00<?, ?it/s]"
      ]
     },
     "metadata": {},
     "output_type": "display_data"
    },
    {
     "name": "stdout",
     "output_type": "stream",
     "text": [
      "Alpha\n",
      "Alpha+\n",
      "IM\n",
      "IMf20\n",
      "Heuristic\n",
      "Flower\n"
     ]
    }
   ],
   "source": [
    "for dataset in datasets:\n",
    "    print(dataset)\n",
    "    log = pm4py.read_xes(os.path.join(data_folder, dataset + \"/Data.xes\"))\n",
    "    for model in models:\n",
    "        print(model)\n",
    "        pnp = PNP.read_text(os.path.join(data_folder, dataset + f\"/Model/{model}.pnp\"))\n",
    "        \n",
    "        frequency_pnp = frequency_estimator(pnp, log)\n",
    "        frequency_pnp.write_text(os.path.join(data_folder, dataset + f\"/Model/{model}-frequency.pnp\"))\n",
    "        \n",
    "        left_hand_pnp = activity_pair_estimator(pnp, log, True)\n",
    "        left_hand_pnp.write_text(os.path.join(data_folder, dataset + f\"/Model/{model}-left_hand.pnp\"))\n",
    "        \n",
    "        right_hand_pnp = activity_pair_estimator(pnp, log)\n",
    "        right_hand_pnp.write_text(os.path.join(data_folder, dataset + f\"/Model/{model}-right_hand.pnp\"))\n",
    "        \n",
    "        right_scaled_pnp = scaled_pair_estimator(pnp, log)\n",
    "        right_scaled_pnp.write_text(os.path.join(data_folder, dataset + f\"/Model/{model}-right_scaled.pnp\"))\n",
    "        \n",
    "        fork_pnp = fork_estimator(pnp, log)\n",
    "        fork_pnp.write_text(os.path.join(data_folder, dataset + f\"/Model/{model}-fork.pnp\"))"
   ]
  },
  {
   "cell_type": "code",
   "execution_count": 5,
   "id": "fbfe65fc",
   "metadata": {},
   "outputs": [],
   "source": [
    "pnp = PNP.read_text(\"Test/test.pnp\")\n",
    "log = pd.read_csv(\"Test/test.csv\")"
   ]
  },
  {
   "cell_type": "code",
   "execution_count": 6,
   "id": "7db71bab",
   "metadata": {},
   "outputs": [
    {
     "name": "stdout",
     "output_type": "stream",
     "text": [
      "T)a)12\n",
      "T)b)15\n",
      "T)c)10\n",
      "T)d)12\n",
      "T)tau)1\n",
      "\n",
      "\n",
      "T)a)12\n",
      "T)b)8\n",
      "T)c)4\n",
      "T)d)12\n",
      "T)tau)1\n",
      "\n",
      "\n",
      "T)a)12\n",
      "T)b)7\n",
      "T)c)5\n",
      "T)d)12\n",
      "T)tau)1\n",
      "\n",
      "\n",
      "T)a)1.2244897959183672\n",
      "T)b)0.7142857142857142\n",
      "T)c)0.5102040816326531\n",
      "T)d)1.2244897959183672\n",
      "T)tau)1\n",
      "\n",
      "\n",
      "T)a)12.0\n",
      "T)b)8.0\n",
      "T)c)3.6363636363636362\n",
      "T)d)11.461538461538462\n",
      "T)tau)1.424473493100944\n",
      "\n",
      "\n"
     ]
    }
   ],
   "source": [
    "frequency_pnp = frequency_estimator(pnp, log)\n",
    "for transition in pnp.petri_net.transitions:\n",
    "    print(transition)\n",
    "print(\"\\n\")\n",
    "\n",
    "left_hand_pnp = activity_pair_estimator(pnp, log, True)\n",
    "for transition in pnp.petri_net.transitions:\n",
    "    print(transition)\n",
    "print(\"\\n\")\n",
    "\n",
    "right_hand_pnp = activity_pair_estimator(pnp, log)\n",
    "for transition in pnp.petri_net.transitions:\n",
    "    print(transition)\n",
    "print(\"\\n\")\n",
    "\n",
    "right_scaled_pnp = scaled_pair_estimator(pnp, log)\n",
    "for transition in pnp.petri_net.transitions:\n",
    "    print(transition)\n",
    "print(\"\\n\")\n",
    "\n",
    "fork_pnp = fork_estimator(pnp, log)\n",
    "for transition in pnp.petri_net.transitions:\n",
    "    print(transition)\n",
    "print(\"\\n\")"
   ]
  }
 ],
 "metadata": {
  "kernelspec": {
   "display_name": "Python 3",
   "language": "python",
   "name": "python3"
  },
  "language_info": {
   "codemirror_mode": {
    "name": "ipython",
    "version": 3
   },
   "file_extension": ".py",
   "mimetype": "text/x-python",
   "name": "python",
   "nbconvert_exporter": "python",
   "pygments_lexer": "ipython3",
   "version": "3.8.8"
  }
 },
 "nbformat": 4,
 "nbformat_minor": 5
}
