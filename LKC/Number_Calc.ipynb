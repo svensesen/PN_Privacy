{
 "cells": [
  {
   "cell_type": "code",
   "execution_count": null,
   "id": "d8eb095e",
   "metadata": {},
   "outputs": [],
   "source": []
  },
  {
   "cell_type": "code",
   "execution_count": 16,
   "id": "0218a816",
   "metadata": {},
   "outputs": [],
   "source": [
    "import os\n",
    "import pm4py\n",
    "from time import time\n",
    "from LKC import *"
   ]
  },
  {
   "cell_type": "code",
   "execution_count": 17,
   "id": "76d66ba9",
   "metadata": {},
   "outputs": [],
   "source": [
    "current_directory = os.getcwd()\n",
    "two_folders_up = os.path.abspath(os.path.join(current_directory, '..', '..'))\n",
    "data_folder = os.path.join(two_folders_up, 'data')"
   ]
  },
  {
   "cell_type": "code",
   "execution_count": 3,
   "id": "607ed99b",
   "metadata": {},
   "outputs": [],
   "source": [
    "datasets = [\"BPI 2020/DomesticDeclarations\", \"BPI 2020/RequestForPayment\", \"Sepsis Cases\", \n",
    "            \"Traffic Fines\", \"Hospital Billing\", \"BPI 2020/InternationalDeclarations\", \"BPI 2020/PrepaidTravelCost\",\n",
    "            \"BPI 2012\",\"BPI 2020/PermitLog\",  \"BPI 2017\"]"
   ]
  },
  {
   "cell_type": "code",
   "execution_count": 5,
   "id": "6a3b7b38",
   "metadata": {},
   "outputs": [
    {
     "name": "stdout",
     "output_type": "stream",
     "text": [
      "BPI 2012\n"
     ]
    },
    {
     "data": {
      "application/vnd.jupyter.widget-view+json": {
       "model_id": "7d12baae071a4ffc90640015d2d35c0b",
       "version_major": 2,
       "version_minor": 0
      },
      "text/plain": [
       "parsing log, completed traces ::   0%|          | 0/13087 [00:00<?, ?it/s]"
      ]
     },
     "metadata": {},
     "output_type": "display_data"
    },
    {
     "name": "stdout",
     "output_type": "stream",
     "text": [
      "16.79265785217285\n",
      "442.55893182754517\n",
      "BPI 2020/DomesticDeclarations\n"
     ]
    },
    {
     "data": {
      "application/vnd.jupyter.widget-view+json": {
       "model_id": "f4d35d98c1cd4526852895d0fc6ac5d6",
       "version_major": 2,
       "version_minor": 0
      },
      "text/plain": [
       "parsing log, completed traces ::   0%|          | 0/10500 [00:00<?, ?it/s]"
      ]
     },
     "metadata": {},
     "output_type": "display_data"
    },
    {
     "name": "stdout",
     "output_type": "stream",
     "text": [
      "3.832139730453491\n",
      "6.791433095932007\n",
      "BPI 2020/InternationalDeclarations\n"
     ]
    },
    {
     "data": {
      "application/vnd.jupyter.widget-view+json": {
       "model_id": "540808d6422a4cbf8c199b263761028b",
       "version_major": 2,
       "version_minor": 0
      },
      "text/plain": [
       "parsing log, completed traces ::   0%|          | 0/6449 [00:00<?, ?it/s]"
      ]
     },
     "metadata": {},
     "output_type": "display_data"
    },
    {
     "name": "stdout",
     "output_type": "stream",
     "text": [
      "6.585386753082275\n",
      "245.3527705669403\n",
      "BPI 2020/PermitLog\n"
     ]
    },
    {
     "data": {
      "application/vnd.jupyter.widget-view+json": {
       "model_id": "4425df5ad90b4b0ebc4c5abcfb3f66ff",
       "version_major": 2,
       "version_minor": 0
      },
      "text/plain": [
       "parsing log, completed traces ::   0%|          | 0/7065 [00:00<?, ?it/s]"
      ]
     },
     "metadata": {},
     "output_type": "display_data"
    },
    {
     "name": "stdout",
     "output_type": "stream",
     "text": [
      "8.059818983078003\n",
      "2266.7177181243896\n",
      "BPI 2020/PrepaidTravelCost\n"
     ]
    },
    {
     "data": {
      "application/vnd.jupyter.widget-view+json": {
       "model_id": "ad72e617046646d89648173d2aca11e8",
       "version_major": 2,
       "version_minor": 0
      },
      "text/plain": [
       "parsing log, completed traces ::   0%|          | 0/2099 [00:00<?, ?it/s]"
      ]
     },
     "metadata": {},
     "output_type": "display_data"
    },
    {
     "name": "stdout",
     "output_type": "stream",
     "text": [
      "1.9603826999664307\n",
      "104.72373938560486\n",
      "BPI 2020/RequestForPayment\n"
     ]
    },
    {
     "data": {
      "application/vnd.jupyter.widget-view+json": {
       "model_id": "fa8cfd4f8a8a4e52b33e9c59b01305b0",
       "version_major": 2,
       "version_minor": 0
      },
      "text/plain": [
       "parsing log, completed traces ::   0%|          | 0/6886 [00:00<?, ?it/s]"
      ]
     },
     "metadata": {},
     "output_type": "display_data"
    },
    {
     "name": "stdout",
     "output_type": "stream",
     "text": [
      "2.9976212978363037\n",
      "14.498840093612671\n",
      "Sepsis Case\n"
     ]
    },
    {
     "data": {
      "application/vnd.jupyter.widget-view+json": {
       "model_id": "9672097fe9684c889a399604cd5ea12f",
       "version_major": 2,
       "version_minor": 0
      },
      "text/plain": [
       "parsing log, completed traces ::   0%|          | 0/1050 [00:00<?, ?it/s]"
      ]
     },
     "metadata": {},
     "output_type": "display_data"
    },
    {
     "name": "stdout",
     "output_type": "stream",
     "text": [
      "1.2942798137664795\n",
      "12.324063539505005\n",
      "Traffic Fines\n"
     ]
    },
    {
     "data": {
      "application/vnd.jupyter.widget-view+json": {
       "model_id": "68fa63fc0fd848f38a140617a336fd4a",
       "version_major": 2,
       "version_minor": 0
      },
      "text/plain": [
       "parsing log, completed traces ::   0%|          | 0/150370 [00:00<?, ?it/s]"
      ]
     },
     "metadata": {},
     "output_type": "display_data"
    },
    {
     "name": "stdout",
     "output_type": "stream",
     "text": [
      "36.59845757484436\n",
      "9.82942271232605\n",
      "Hospital Billing\n"
     ]
    },
    {
     "data": {
      "application/vnd.jupyter.widget-view+json": {
       "model_id": "e6ce5186558d40e69adb901b3a0956cc",
       "version_major": 2,
       "version_minor": 0
      },
      "text/plain": [
       "parsing log, completed traces ::   0%|          | 0/100000 [00:00<?, ?it/s]"
      ]
     },
     "metadata": {},
     "output_type": "display_data"
    },
    {
     "name": "stdout",
     "output_type": "stream",
     "text": [
      "35.13540863990784\n",
      "29.143537998199463\n",
      "BPI 2017\n"
     ]
    },
    {
     "data": {
      "application/vnd.jupyter.widget-view+json": {
       "model_id": "eddc79942ced4ecf84f81e0ead613496",
       "version_major": 2,
       "version_minor": 0
      },
      "text/plain": [
       "parsing log, completed traces ::   0%|          | 0/31509 [00:00<?, ?it/s]"
      ]
     },
     "metadata": {},
     "output_type": "display_data"
    },
    {
     "name": "stdout",
     "output_type": "stream",
     "text": [
      "82.39651799201965\n",
      "5720.999135494232\n"
     ]
    }
   ],
   "source": [
    "for dataset in datasets:\n",
    "    print(dataset)\n",
    "    \n",
    "    t = time()\n",
    "    log = pm4py.read_xes(os.path.join(data_folder, dataset + \"/Data.xes\"))\n",
    "    print(time() - t)\n",
    "    \n",
    "    t = time()\n",
    "    calculate_case_numbers(log, 5, os.path.join(data_folder, dataset + \"/Number5.json\"))\n",
    "    print(time() - t)"
   ]
  }
 ],
 "metadata": {
  "kernelspec": {
   "display_name": "Python 3",
   "language": "python",
   "name": "python3"
  },
  "language_info": {
   "codemirror_mode": {
    "name": "ipython",
    "version": 3
   },
   "file_extension": ".py",
   "mimetype": "text/x-python",
   "name": "python",
   "nbconvert_exporter": "python",
   "pygments_lexer": "ipython3",
   "version": "3.8.8"
  }
 },
 "nbformat": 4,
 "nbformat_minor": 5
}
