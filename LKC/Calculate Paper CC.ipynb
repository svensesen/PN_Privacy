{
 "cells": [
  {
   "cell_type": "code",
   "execution_count": 14,
   "id": "957a7e2f",
   "metadata": {},
   "outputs": [],
   "source": [
    "import os\n",
    "import pandas as pd\n",
    "from LKC import *\n",
    "from itertools import combinations\n",
    "from tqdm import tqdm\n",
    "from operator import itemgetter"
   ]
  },
  {
   "cell_type": "code",
   "execution_count": 15,
   "id": "c8745055",
   "metadata": {},
   "outputs": [],
   "source": [
    "current_directory = os.getcwd()\n",
    "two_folders_up = os.path.abspath(os.path.join(current_directory, '..', '..'))\n",
    "data_folder = os.path.join(two_folders_up, 'Data')\n",
    "results_folder = os.path.join(two_folders_up, 'Results')"
   ]
  },
  {
   "cell_type": "code",
   "execution_count": 16,
   "id": "3c1b0cd9",
   "metadata": {},
   "outputs": [],
   "source": [
    "def low_percentage_events(numbers, percentage):\n",
    "    return [event for event in numbers.events if numbers.pr_e([event]) <= percentage]\n",
    "\n",
    "def lowest_events(numbers, amount):\n",
    "    event_occur = [(event, numbers.pr_e([event])) for event in numbers.events]\n",
    "    return [i[0] for i in sorted(event_occur, key=itemgetter(1))[:amount]]"
   ]
  },
  {
   "cell_type": "code",
   "execution_count": 17,
   "id": "eb022f64",
   "metadata": {},
   "outputs": [],
   "source": [
    "def calculate_cc(numbers, sensitive, name, cc_type):\n",
    "    results = []\n",
    "    \n",
    "    upper_cc, lower_cc = 0,0\n",
    "    for l in [1,2,3,4]:\n",
    "        upper_cc, lower_cc = numbers.paper_cc_all(l, set(sensitive), upper_cc, lower_cc)\n",
    "        K, C = numbers.max_LKC(l, set(sensitive))\n",
    "        result_cc = upper_cc/lower_cc if lower_cc != 0 else 0\n",
    "        results.append([sorted(sensitive), l, result_cc, upper_cc, lower_cc, K, C])\n",
    "\n",
    "    results_df = pd.DataFrame(results, columns = [\"Sensitive Activities\", \"Background Size\", \"Confidence Privacy\", \"Upper CC\", \"Lower CC\", \"Max K\", \"Max C\"])\n",
    "    results_df.to_csv(os.path.join(results_folder, f\"{name}\\CC_{cc_type}.csv\"), index = False)"
   ]
  },
  {
   "cell_type": "code",
   "execution_count": 18,
   "id": "05096042",
   "metadata": {},
   "outputs": [],
   "source": [
    "def run_various_cc(numbers, name, sensitive):\n",
    "    calculate_cc(numbers, sensitive, name, \"Knowledge\")\n",
    "\n",
    "    sensitive = low_percentage_events(numbers, 0.05)\n",
    "    calculate_cc(numbers, sensitive, name, f\"Percentage_0.05\")\n",
    "    \n",
    "\n",
    "    sensitive = lowest_events(numbers, 4)\n",
    "    calculate_cc(numbers, sensitive, name, f\"Amount_4\")"
   ]
  },
  {
   "cell_type": "code",
   "execution_count": 19,
   "id": "334bcb24",
   "metadata": {},
   "outputs": [],
   "source": [
    "n_traffic = ListIntegerMap.load_from_file(os.path.join(data_folder, \"Traffic Fines/Number5.json\"))\n",
    "sensitive = [\"Send for Credit Collection\", \"Appeal to Judge\"]\n",
    "run_various_cc(n_traffic, \"Traffic Fines\", sensitive)\n",
    "del n_traffic\n",
    "\n",
    "\n",
    "n_sepsis = ListIntegerMap.load_from_file(os.path.join(data_folder, \"Sepsis Cases/Number5.json\"))\n",
    "sensitive = [\"Release A\", \"Release B\", \"Release C\", \"Release D\", \"Release E\"]\n",
    "run_various_cc(n_sepsis, \"Sepsis Cases\", sensitive)\n",
    "del n_sepsis\n",
    "\n",
    "\n",
    "n_12 = ListIntegerMap.load_from_file(os.path.join(data_folder, \"BPI 2012/Number5.json\"))\n",
    "sensitive = [\"A_DECLINED\", \"A_CANCELLED\", \"A_APPROVED\"]\n",
    "run_various_cc(n_12, \"BPI 2012\", sensitive)\n",
    "del n_12\n",
    "\n",
    "\n",
    "n_17 = ListIntegerMap.load_from_file(os.path.join(data_folder, \"BPI 2017/Number5.json\"))\n",
    "sensitive = [\"A_Denied\", \"A_Cancelled\", \"A_Pending\"]\n",
    "run_various_cc(n_17, \"BPI 2017\", sensitive)\n",
    "del n_17\n",
    "\n",
    "\n",
    "n_20D = ListIntegerMap.load_from_file(os.path.join(data_folder, \"BPI 2020/DomesticDeclarations/Number5.json\"))\n",
    "sensitive = [\"Payment Handled\"]\n",
    "run_various_cc(n_20D, \"BPI 2020/DomesticDeclarations\", sensitive)\n",
    "del n_20D\n",
    "\n",
    "\n",
    "n_20R = ListIntegerMap.load_from_file(os.path.join(data_folder, \"BPI 2020/RequestForPayment/Number5.json\"))\n",
    "sensitive = [\"Payment Handled\"]\n",
    "run_various_cc(n_20R, \"BPI 2020/RequestForPayment\", sensitive)\n",
    "del n_20R\n",
    "\n",
    "\n",
    "n_20I = ListIntegerMap.load_from_file(os.path.join(data_folder, \"BPI 2020/InternationalDeclarations/Number5.json\"))\n",
    "sensitive = [\"Send Reminder\"]\n",
    "run_various_cc(n_20I, \"BPI 2020/InternationalDeclarations\", sensitive)\n",
    "del n_20I\n",
    "\n",
    "\n",
    "n_20P = ListIntegerMap.load_from_file(os.path.join(data_folder, \"BPI 2020/PrepaidTravelCost/Number5.json\"))\n",
    "sensitive = [\"Payment Handled\"]\n",
    "run_various_cc(n_20P, \"BPI 2020/PrepaidTravelCost\", sensitive)\n",
    "del n_20P\n",
    "\n",
    "\n",
    "n_20M = ListIntegerMap.load_from_file(os.path.join(data_folder, \"BPI 2020/PermitLog/Number5.json\"))\n",
    "sensitive = [\"Payment Handled\", \"Send Reminder\"]\n",
    "run_various_cc(n_20M, \"BPI 2020/PermitLog\", sensitive)\n",
    "del n_20M\n",
    "\n",
    "\n",
    "n_billing = ListIntegerMap.load_from_file(os.path.join(data_folder, \"Hospital Billing/Number5.json\"))\n",
    "sensitive = [\"DELETE\", \"REOPEN\", \"REJECT\", \"JOIN-PAT\"]\n",
    "run_various_cc(n_billing, \"Hospital Billing\", sensitive)\n",
    "del n_billing"
   ]
  }
 ],
 "metadata": {
  "kernelspec": {
   "display_name": "Python 3",
   "language": "python",
   "name": "python3"
  },
  "language_info": {
   "codemirror_mode": {
    "name": "ipython",
    "version": 3
   },
   "file_extension": ".py",
   "mimetype": "text/x-python",
   "name": "python",
   "nbconvert_exporter": "python",
   "pygments_lexer": "ipython3",
   "version": "3.8.8"
  }
 },
 "nbformat": 4,
 "nbformat_minor": 5
}
