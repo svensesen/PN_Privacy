{
 "cells": [
  {
   "cell_type": "code",
   "execution_count": 7,
   "id": "f359e508",
   "metadata": {},
   "outputs": [],
   "source": [
    "from ModelCreation import *\n",
    "import os\n",
    "import pm4py\n",
    "\n",
    "current_directory = os.path.abspath('')\n",
    "code_folder = os.path.abspath(os.path.join(current_directory, \"..\"))\n",
    "sys.path.insert(1, code_folder)\n",
    "from Pytri.PetriNet import *"
   ]
  },
  {
   "cell_type": "code",
   "execution_count": 8,
   "id": "a1efecd2",
   "metadata": {},
   "outputs": [],
   "source": [
    "current_directory = os.getcwd()\n",
    "two_folders_up = os.path.abspath(os.path.join(current_directory, '..', '..'))\n",
    "data_folder = os.path.join(two_folders_up, 'data')"
   ]
  },
  {
   "cell_type": "code",
   "execution_count": 9,
   "id": "ce2e67a7",
   "metadata": {},
   "outputs": [],
   "source": [
    "datasets = [\"BPI 2020/DomesticDeclarations\", \"BPI 2020/RequestForPayment\", \"Sepsis Cases\", \n",
    "            \"Traffic Fines\", \"Hospital Billing\", \"BPI 2020/InternationalDeclarations\", \"BPI 2020/PrepaidTravelCost\",\n",
    "            \"BPI 2012\",\"BPI 2020/PermitLog\",  \"BPI 2017\"]"
   ]
  },
  {
   "cell_type": "code",
   "execution_count": 10,
   "id": "756b6428",
   "metadata": {},
   "outputs": [
    {
     "data": {
      "application/vnd.jupyter.widget-view+json": {
       "model_id": "119fac7ebed3460baa367da7cbdb3008",
       "version_major": 2,
       "version_minor": 0
      },
      "text/plain": [
       "parsing log, completed traces ::   0%|          | 0/10500 [00:00<?, ?it/s]"
      ]
     },
     "metadata": {},
     "output_type": "display_data"
    },
    {
     "data": {
      "application/vnd.jupyter.widget-view+json": {
       "model_id": "03e3c8232350425280fd93d70f4bf9f6",
       "version_major": 2,
       "version_minor": 0
      },
      "text/plain": [
       "parsing log, completed traces ::   0%|          | 0/6886 [00:00<?, ?it/s]"
      ]
     },
     "metadata": {},
     "output_type": "display_data"
    },
    {
     "data": {
      "application/vnd.jupyter.widget-view+json": {
       "model_id": "6fef9bdcaa9844b19bbe7c70868432ce",
       "version_major": 2,
       "version_minor": 0
      },
      "text/plain": [
       "parsing log, completed traces ::   0%|          | 0/1050 [00:00<?, ?it/s]"
      ]
     },
     "metadata": {},
     "output_type": "display_data"
    },
    {
     "data": {
      "application/vnd.jupyter.widget-view+json": {
       "model_id": "6434f2fc350940469a0ac86c605396e5",
       "version_major": 2,
       "version_minor": 0
      },
      "text/plain": [
       "parsing log, completed traces ::   0%|          | 0/150370 [00:00<?, ?it/s]"
      ]
     },
     "metadata": {},
     "output_type": "display_data"
    },
    {
     "data": {
      "application/vnd.jupyter.widget-view+json": {
       "model_id": "9965069d6c5347d4bf5f02904214fa31",
       "version_major": 2,
       "version_minor": 0
      },
      "text/plain": [
       "parsing log, completed traces ::   0%|          | 0/100000 [00:00<?, ?it/s]"
      ]
     },
     "metadata": {},
     "output_type": "display_data"
    },
    {
     "data": {
      "application/vnd.jupyter.widget-view+json": {
       "model_id": "0bc121cf67934741bbfbf9d39299bae7",
       "version_major": 2,
       "version_minor": 0
      },
      "text/plain": [
       "parsing log, completed traces ::   0%|          | 0/6449 [00:00<?, ?it/s]"
      ]
     },
     "metadata": {},
     "output_type": "display_data"
    },
    {
     "data": {
      "application/vnd.jupyter.widget-view+json": {
       "model_id": "8c4170cec5b143d99dd9aeaf2a3ba7b1",
       "version_major": 2,
       "version_minor": 0
      },
      "text/plain": [
       "parsing log, completed traces ::   0%|          | 0/2099 [00:00<?, ?it/s]"
      ]
     },
     "metadata": {},
     "output_type": "display_data"
    },
    {
     "data": {
      "application/vnd.jupyter.widget-view+json": {
       "model_id": "dfdefacf99304162adb03b0261bf1bfd",
       "version_major": 2,
       "version_minor": 0
      },
      "text/plain": [
       "parsing log, completed traces ::   0%|          | 0/13087 [00:00<?, ?it/s]"
      ]
     },
     "metadata": {},
     "output_type": "display_data"
    },
    {
     "data": {
      "application/vnd.jupyter.widget-view+json": {
       "model_id": "62c5b959a50343e8a8f7f30512d528df",
       "version_major": 2,
       "version_minor": 0
      },
      "text/plain": [
       "parsing log, completed traces ::   0%|          | 0/7065 [00:00<?, ?it/s]"
      ]
     },
     "metadata": {},
     "output_type": "display_data"
    },
    {
     "data": {
      "application/vnd.jupyter.widget-view+json": {
       "model_id": "a375f724db1f4c56a83b055217311cab",
       "version_major": 2,
       "version_minor": 0
      },
      "text/plain": [
       "parsing log, completed traces ::   0%|          | 0/31509 [00:00<?, ?it/s]"
      ]
     },
     "metadata": {},
     "output_type": "display_data"
    }
   ],
   "source": [
    "for dataset in datasets:\n",
    "    log = pm4py.read_xes(os.path.join(data_folder, dataset + \"/Data.xes\"))\n",
    "    \n",
    "    create_flower_model(log, os.path.join(data_folder, dataset + \"/Model/Flower.pnp\"))\n",
    "    pnp = PNP.read_text(os.path.join(data_folder, dataset + \"/Model/Flower.pnp\"))\n",
    "    pnp.write_pnml(os.path.join(data_folder, dataset + \"/Model/Flower.pnml\"))\n",
    "    \n",
    "    create_event_log_model(log, os.path.join(data_folder, dataset + \"/Model/Log.pnp\"))"
   ]
  }
 ],
 "metadata": {
  "kernelspec": {
   "display_name": "Python 3",
   "language": "python",
   "name": "python3"
  },
  "language_info": {
   "codemirror_mode": {
    "name": "ipython",
    "version": 3
   },
   "file_extension": ".py",
   "mimetype": "text/x-python",
   "name": "python",
   "nbconvert_exporter": "python",
   "pygments_lexer": "ipython3",
   "version": "3.8.8"
  }
 },
 "nbformat": 4,
 "nbformat_minor": 5
}
