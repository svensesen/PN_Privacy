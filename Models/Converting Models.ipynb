{
 "cells": [
  {
   "cell_type": "code",
   "execution_count": 1,
   "id": "0b1e3aee",
   "metadata": {},
   "outputs": [],
   "source": [
    "from ModelConversion import *\n",
    "import os\n",
    "import pm4py\n",
    "\n",
    "import xml.etree.ElementTree as ET"
   ]
  },
  {
   "cell_type": "code",
   "execution_count": 2,
   "id": "f8c289c7",
   "metadata": {},
   "outputs": [],
   "source": [
    "current_directory = os.getcwd()\n",
    "two_folders_up = os.path.abspath(os.path.join(current_directory, '..', '..'))\n",
    "data_folder = os.path.join(two_folders_up, 'data')"
   ]
  },
  {
   "cell_type": "code",
   "execution_count": 3,
   "id": "a5b46ae4",
   "metadata": {},
   "outputs": [],
   "source": [
    "datasets = [\"BPI 2020/DomesticDeclarations\", \"BPI 2020/RequestForPayment\", \"Sepsis Cases\", \n",
    "            \"Traffic Fines\", \"Hospital Billing\", \"BPI 2020/InternationalDeclarations\", \"BPI 2020/PrepaidTravelCost\",\n",
    "            \"BPI 2012\",\"BPI 2020/PermitLog\",  \"BPI 2017\"]\n",
    "\n",
    "models = [\"Alpha\", \"Alpha+\", \"IM\", \"IMf20\", \"Heuristic\", \"Flower\"]"
   ]
  },
  {
   "cell_type": "code",
   "execution_count": 5,
   "id": "ac6f2d8f",
   "metadata": {},
   "outputs": [],
   "source": [
    "for dataset in datasets:\n",
    "    for model in models:\n",
    "        \n",
    "        # Removes empty final markings (if they are present)\n",
    "        original = open(os.path.join(data_folder, f\"{dataset}/Model/{model}.pnml\"), \"r\")\n",
    "        inbetween = open(os.path.join(data_folder, f\"{dataset}/Model/{model}_inbetween.pnml\"), \"w\")\n",
    "        for line in original:\n",
    "            inbetween.write(line.replace(\"<finalmarkings/>\", \"\"))\n",
    "        original.close()\n",
    "        inbetween.close()\n",
    "        \n",
    "        # Have pm4py auto_gues the final markings\n",
    "        final = pm4py.read_pnml(os.path.join(data_folder, f\"{dataset}/Model/{model}_inbetween.pnml\"), auto_guess_final_marking = True)\n",
    "        pm4py.write_pnml(final[0], final[1], final[2], os.path.join(data_folder, f\"{dataset}/Model/{model}.pnml\"))\n",
    "        os.remove(os.path.join(data_folder, f\"{dataset}/Model/{model}_inbetween.pnml\"))\n",
    "        \n",
    "        # Move the finalmarkings for a new version\n",
    "        tree = ET.parse(os.path.join(data_folder, f\"{dataset}/Model/{model}.pnml\"))\n",
    "        finalmarkings = tree.getroot().find('net/finalmarkings')\n",
    "        destination = tree.getroot().find('finalmarkings')\n",
    "        if (finalmarkings) and (not destination):\n",
    "            tree.getroot().append(finalmarkings)\n",
    "            tree.getroot().find('net').remove(finalmarkings)\n",
    "        \n",
    "        # Save the final version\n",
    "        with open(os.path.join(data_folder, f\"{dataset}/Pre_Stoch_Model/{model}_.pnml\"), \"w\") as f:\n",
    "            xml_str = ET.tostring(tree.getroot(), encoding='utf-8', method='xml').decode()\n",
    "            xml_with_declaration = \"<?xml version='1.0' encoding='UTF-8'?>\\n\" + xml_str\n",
    "            f.write(xml_with_declaration)\n",
    "        \n",
    "        #pnml_to_pnp(os.path.join(data_folder, f\"{dataset}/Model/{model}.pnml\"),os.path.join(data_folder, f\"{dataset}/Model/{model}.pnp\"))"
   ]
  }
 ],
 "metadata": {
  "kernelspec": {
   "display_name": "Python 3",
   "language": "python",
   "name": "python3"
  },
  "language_info": {
   "codemirror_mode": {
    "name": "ipython",
    "version": 3
   },
   "file_extension": ".py",
   "mimetype": "text/x-python",
   "name": "python",
   "nbconvert_exporter": "python",
   "pygments_lexer": "ipython3",
   "version": "3.8.8"
  }
 },
 "nbformat": 4,
 "nbformat_minor": 5
}
