{
 "cells": [
  {
   "cell_type": "code",
   "execution_count": 1,
   "id": "62fcf1db",
   "metadata": {},
   "outputs": [],
   "source": [
    "import pm4py\n",
    "from pathlib import Path"
   ]
  },
  {
   "cell_type": "markdown",
   "id": "c483d624",
   "metadata": {},
   "source": [
    "log_12 sensitive: \"A_DECLINED\", \"A_CANCELLED\", \"A_APPROVED\"\n",
    "log_17 sensitive: \"A_Denied\", \"A_Cancelled\", \"A_Pending\"\n",
    "sepsis sensitive: \"IV Antibiotics\", \"Release X\" seemingly correlation to severe cases\n",
    "fine sensitive: \"Send for Credit Collection\"\n",
    "hospital billing sensitive: No clue what most of this means\n",
    "hospital log sensitive: Its aggressively detailed event names, which makes it probably not useful\n",
    "log_20 domesitc: \"Payment Handled\" (maybe)\n",
    "log_20 internation: \"Send Reminder\" (maybe)\n",
    "log_20 permit: \"Send Reminder\", \"Payment Handled\" (maybe)\n",
    "log_20 prepaid: \"Payment Handled\" (maybe)\n",
    "log_20 request: \"Payment Handled\" (maybe)"
   ]
  },
  {
   "cell_type": "code",
   "execution_count": 2,
   "id": "815f0441",
   "metadata": {},
   "outputs": [
    {
     "data": {
      "application/vnd.jupyter.widget-view+json": {
       "model_id": "b78e5364c09c443daf320e5ab82fdff8",
       "version_major": 2,
       "version_minor": 0
      },
      "text/plain": [
       "parsing log, completed traces ::   0%|          | 0/13087 [00:00<?, ?it/s]"
      ]
     },
     "metadata": {},
     "output_type": "display_data"
    }
   ],
   "source": [
    "log_12 = pm4py.read_xes('BPI 2012/Data.xes')"
   ]
  },
  {
   "cell_type": "code",
   "execution_count": 3,
   "id": "15c2b4e7",
   "metadata": {},
   "outputs": [
    {
     "data": {
      "text/html": [
       "<div>\n",
       "<style scoped>\n",
       "    .dataframe tbody tr th:only-of-type {\n",
       "        vertical-align: middle;\n",
       "    }\n",
       "\n",
       "    .dataframe tbody tr th {\n",
       "        vertical-align: top;\n",
       "    }\n",
       "\n",
       "    .dataframe thead th {\n",
       "        text-align: right;\n",
       "    }\n",
       "</style>\n",
       "<table border=\"1\" class=\"dataframe\">\n",
       "  <thead>\n",
       "    <tr style=\"text-align: right;\">\n",
       "      <th></th>\n",
       "      <th>org:resource</th>\n",
       "      <th>lifecycle:transition</th>\n",
       "      <th>concept:name</th>\n",
       "      <th>time:timestamp</th>\n",
       "      <th>case:REG_DATE</th>\n",
       "      <th>case:concept:name</th>\n",
       "      <th>case:AMOUNT_REQ</th>\n",
       "    </tr>\n",
       "  </thead>\n",
       "  <tbody>\n",
       "    <tr>\n",
       "      <th>0</th>\n",
       "      <td>112</td>\n",
       "      <td>COMPLETE</td>\n",
       "      <td>A_SUBMITTED</td>\n",
       "      <td>2011-09-30 22:38:44.546000+00:00</td>\n",
       "      <td>2011-09-30 22:38:44.546000+00:00</td>\n",
       "      <td>173688</td>\n",
       "      <td>20000</td>\n",
       "    </tr>\n",
       "    <tr>\n",
       "      <th>1</th>\n",
       "      <td>112</td>\n",
       "      <td>COMPLETE</td>\n",
       "      <td>A_PARTLYSUBMITTED</td>\n",
       "      <td>2011-09-30 22:38:44.880000+00:00</td>\n",
       "      <td>2011-09-30 22:38:44.546000+00:00</td>\n",
       "      <td>173688</td>\n",
       "      <td>20000</td>\n",
       "    </tr>\n",
       "    <tr>\n",
       "      <th>2</th>\n",
       "      <td>112</td>\n",
       "      <td>COMPLETE</td>\n",
       "      <td>A_PREACCEPTED</td>\n",
       "      <td>2011-09-30 22:39:37.906000+00:00</td>\n",
       "      <td>2011-09-30 22:38:44.546000+00:00</td>\n",
       "      <td>173688</td>\n",
       "      <td>20000</td>\n",
       "    </tr>\n",
       "    <tr>\n",
       "      <th>3</th>\n",
       "      <td>112</td>\n",
       "      <td>SCHEDULE</td>\n",
       "      <td>W_Completeren aanvraag</td>\n",
       "      <td>2011-09-30 22:39:38.875000+00:00</td>\n",
       "      <td>2011-09-30 22:38:44.546000+00:00</td>\n",
       "      <td>173688</td>\n",
       "      <td>20000</td>\n",
       "    </tr>\n",
       "    <tr>\n",
       "      <th>4</th>\n",
       "      <td>NaN</td>\n",
       "      <td>START</td>\n",
       "      <td>W_Completeren aanvraag</td>\n",
       "      <td>2011-10-01 09:36:46.437000+00:00</td>\n",
       "      <td>2011-09-30 22:38:44.546000+00:00</td>\n",
       "      <td>173688</td>\n",
       "      <td>20000</td>\n",
       "    </tr>\n",
       "    <tr>\n",
       "      <th>...</th>\n",
       "      <td>...</td>\n",
       "      <td>...</td>\n",
       "      <td>...</td>\n",
       "      <td>...</td>\n",
       "      <td>...</td>\n",
       "      <td>...</td>\n",
       "      <td>...</td>\n",
       "    </tr>\n",
       "    <tr>\n",
       "      <th>262195</th>\n",
       "      <td>112</td>\n",
       "      <td>COMPLETE</td>\n",
       "      <td>A_PARTLYSUBMITTED</td>\n",
       "      <td>2012-02-29 22:51:17.423000+00:00</td>\n",
       "      <td>2012-02-29 22:51:16.799000+00:00</td>\n",
       "      <td>214376</td>\n",
       "      <td>15000</td>\n",
       "    </tr>\n",
       "    <tr>\n",
       "      <th>262196</th>\n",
       "      <td>112</td>\n",
       "      <td>SCHEDULE</td>\n",
       "      <td>W_Afhandelen leads</td>\n",
       "      <td>2012-02-29 22:52:01.287000+00:00</td>\n",
       "      <td>2012-02-29 22:51:16.799000+00:00</td>\n",
       "      <td>214376</td>\n",
       "      <td>15000</td>\n",
       "    </tr>\n",
       "    <tr>\n",
       "      <th>262197</th>\n",
       "      <td>11169</td>\n",
       "      <td>START</td>\n",
       "      <td>W_Afhandelen leads</td>\n",
       "      <td>2012-03-01 08:26:46.736000+00:00</td>\n",
       "      <td>2012-02-29 22:51:16.799000+00:00</td>\n",
       "      <td>214376</td>\n",
       "      <td>15000</td>\n",
       "    </tr>\n",
       "    <tr>\n",
       "      <th>262198</th>\n",
       "      <td>11169</td>\n",
       "      <td>COMPLETE</td>\n",
       "      <td>A_DECLINED</td>\n",
       "      <td>2012-03-01 08:27:37.118000+00:00</td>\n",
       "      <td>2012-02-29 22:51:16.799000+00:00</td>\n",
       "      <td>214376</td>\n",
       "      <td>15000</td>\n",
       "    </tr>\n",
       "    <tr>\n",
       "      <th>262199</th>\n",
       "      <td>11169</td>\n",
       "      <td>COMPLETE</td>\n",
       "      <td>W_Afhandelen leads</td>\n",
       "      <td>2012-03-01 08:27:41.325000+00:00</td>\n",
       "      <td>2012-02-29 22:51:16.799000+00:00</td>\n",
       "      <td>214376</td>\n",
       "      <td>15000</td>\n",
       "    </tr>\n",
       "  </tbody>\n",
       "</table>\n",
       "<p>262200 rows × 7 columns</p>\n",
       "</div>"
      ],
      "text/plain": [
       "       org:resource lifecycle:transition            concept:name  \\\n",
       "0               112             COMPLETE             A_SUBMITTED   \n",
       "1               112             COMPLETE       A_PARTLYSUBMITTED   \n",
       "2               112             COMPLETE           A_PREACCEPTED   \n",
       "3               112             SCHEDULE  W_Completeren aanvraag   \n",
       "4               NaN                START  W_Completeren aanvraag   \n",
       "...             ...                  ...                     ...   \n",
       "262195          112             COMPLETE       A_PARTLYSUBMITTED   \n",
       "262196          112             SCHEDULE      W_Afhandelen leads   \n",
       "262197        11169                START      W_Afhandelen leads   \n",
       "262198        11169             COMPLETE              A_DECLINED   \n",
       "262199        11169             COMPLETE      W_Afhandelen leads   \n",
       "\n",
       "                         time:timestamp                    case:REG_DATE  \\\n",
       "0      2011-09-30 22:38:44.546000+00:00 2011-09-30 22:38:44.546000+00:00   \n",
       "1      2011-09-30 22:38:44.880000+00:00 2011-09-30 22:38:44.546000+00:00   \n",
       "2      2011-09-30 22:39:37.906000+00:00 2011-09-30 22:38:44.546000+00:00   \n",
       "3      2011-09-30 22:39:38.875000+00:00 2011-09-30 22:38:44.546000+00:00   \n",
       "4      2011-10-01 09:36:46.437000+00:00 2011-09-30 22:38:44.546000+00:00   \n",
       "...                                 ...                              ...   \n",
       "262195 2012-02-29 22:51:17.423000+00:00 2012-02-29 22:51:16.799000+00:00   \n",
       "262196 2012-02-29 22:52:01.287000+00:00 2012-02-29 22:51:16.799000+00:00   \n",
       "262197 2012-03-01 08:26:46.736000+00:00 2012-02-29 22:51:16.799000+00:00   \n",
       "262198 2012-03-01 08:27:37.118000+00:00 2012-02-29 22:51:16.799000+00:00   \n",
       "262199 2012-03-01 08:27:41.325000+00:00 2012-02-29 22:51:16.799000+00:00   \n",
       "\n",
       "       case:concept:name case:AMOUNT_REQ  \n",
       "0                 173688           20000  \n",
       "1                 173688           20000  \n",
       "2                 173688           20000  \n",
       "3                 173688           20000  \n",
       "4                 173688           20000  \n",
       "...                  ...             ...  \n",
       "262195            214376           15000  \n",
       "262196            214376           15000  \n",
       "262197            214376           15000  \n",
       "262198            214376           15000  \n",
       "262199            214376           15000  \n",
       "\n",
       "[262200 rows x 7 columns]"
      ]
     },
     "execution_count": 3,
     "metadata": {},
     "output_type": "execute_result"
    }
   ],
   "source": [
    "log_12"
   ]
  },
  {
   "cell_type": "code",
   "execution_count": 3,
   "id": "b3ed55b7",
   "metadata": {},
   "outputs": [
    {
     "data": {
      "application/vnd.jupyter.widget-view+json": {
       "model_id": "bf96997268024cdaa79702954c9ba8ed",
       "version_major": 2,
       "version_minor": 0
      },
      "text/plain": [
       "exporting log, completed traces ::   0%|          | 0/13087 [00:00<?, ?it/s]"
      ]
     },
     "metadata": {},
     "output_type": "display_data"
    },
    {
     "data": {
      "application/vnd.jupyter.widget-view+json": {
       "model_id": "dfef1c019e3b4e3aa5d672a44039d43f",
       "version_major": 2,
       "version_minor": 0
      },
      "text/plain": [
       "exporting log, completed traces ::   0%|          | 0/5015 [00:00<?, ?it/s]"
      ]
     },
     "metadata": {},
     "output_type": "display_data"
    },
    {
     "data": {
      "application/vnd.jupyter.widget-view+json": {
       "model_id": "9ad45047abe34ec083a6627f94c24035",
       "version_major": 2,
       "version_minor": 0
      },
      "text/plain": [
       "exporting log, completed traces ::   0%|          | 0/9658 [00:00<?, ?it/s]"
      ]
     },
     "metadata": {},
     "output_type": "display_data"
    }
   ],
   "source": [
    "A_prefix_12 = log_12[log_12[\"concept:name\"].str.startswith(\"A\")]\n",
    "Path(\"BPI 2012/A_prefix\").mkdir(parents=True, exist_ok=True)\n",
    "pm4py.write_xes(A_prefix_12, 'BPI 2012/A_prefix/Data.xes')\n",
    "\n",
    "O_prefix_12 = log_12[log_12[\"concept:name\"].str.startswith(\"O\")]\n",
    "Path(\"BPI 2012/O_prefix\").mkdir(parents=True, exist_ok=True)\n",
    "pm4py.write_xes(O_prefix_12, 'BPI 2012/O_prefix/Data.xes')\n",
    "\n",
    "W_prefix_12 = log_12[log_12[\"concept:name\"].str.startswith(\"W\")]\n",
    "Path(\"BPI 2012/W_prefix\").mkdir(parents=True, exist_ok=True)\n",
    "pm4py.write_xes(W_prefix_12, 'BPI 2012/W_prefix/Data.xes')"
   ]
  },
  {
   "cell_type": "code",
   "execution_count": 4,
   "id": "9f58a8e4",
   "metadata": {},
   "outputs": [
    {
     "data": {
      "application/vnd.jupyter.widget-view+json": {
       "model_id": "b25286f3c849492e962316b30dd43510",
       "version_major": 2,
       "version_minor": 0
      },
      "text/plain": [
       "parsing log, completed traces ::   0%|          | 0/31509 [00:00<?, ?it/s]"
      ]
     },
     "metadata": {},
     "output_type": "display_data"
    },
    {
     "ename": "KeyboardInterrupt",
     "evalue": "",
     "output_type": "error",
     "traceback": [
      "\u001b[1;31m---------------------------------------------------------------------------\u001b[0m",
      "\u001b[1;31mKeyboardInterrupt\u001b[0m                         Traceback (most recent call last)",
      "\u001b[1;32m<ipython-input-4-c6c647696198>\u001b[0m in \u001b[0;36m<module>\u001b[1;34m\u001b[0m\n\u001b[1;32m----> 1\u001b[1;33m \u001b[0mlog_17\u001b[0m \u001b[1;33m=\u001b[0m \u001b[0mpm4py\u001b[0m\u001b[1;33m.\u001b[0m\u001b[0mread_xes\u001b[0m\u001b[1;33m(\u001b[0m\u001b[1;34m'BPI 2017/Data.xes'\u001b[0m\u001b[1;33m)\u001b[0m\u001b[1;33m\u001b[0m\u001b[1;33m\u001b[0m\u001b[0m\n\u001b[0m",
      "\u001b[1;32mC:\\ProgramData\\Anaconda3\\lib\\site-packages\\pm4py\\read.py\u001b[0m in \u001b[0;36mread_xes\u001b[1;34m(file_path, variant, **kwargs)\u001b[0m\n\u001b[0;32m     68\u001b[0m     \u001b[1;32melif\u001b[0m \u001b[0mvariant\u001b[0m \u001b[1;33m==\u001b[0m \u001b[1;34m\"chunk_regex\"\u001b[0m\u001b[1;33m:\u001b[0m\u001b[1;33m\u001b[0m\u001b[1;33m\u001b[0m\u001b[0m\n\u001b[0;32m     69\u001b[0m         \u001b[0mv\u001b[0m \u001b[1;33m=\u001b[0m \u001b[0mxes_importer\u001b[0m\u001b[1;33m.\u001b[0m\u001b[0mVariants\u001b[0m\u001b[1;33m.\u001b[0m\u001b[0mCHUNK_REGEX\u001b[0m\u001b[1;33m\u001b[0m\u001b[1;33m\u001b[0m\u001b[0m\n\u001b[1;32m---> 70\u001b[1;33m     \u001b[0mlog\u001b[0m \u001b[1;33m=\u001b[0m \u001b[0mxes_importer\u001b[0m\u001b[1;33m.\u001b[0m\u001b[0mapply\u001b[0m\u001b[1;33m(\u001b[0m\u001b[0mfile_path\u001b[0m\u001b[1;33m,\u001b[0m \u001b[0mvariant\u001b[0m\u001b[1;33m=\u001b[0m\u001b[0mv\u001b[0m\u001b[1;33m,\u001b[0m \u001b[0mparameters\u001b[0m\u001b[1;33m=\u001b[0m\u001b[0mkwargs\u001b[0m\u001b[1;33m)\u001b[0m\u001b[1;33m\u001b[0m\u001b[1;33m\u001b[0m\u001b[0m\n\u001b[0m\u001b[0;32m     71\u001b[0m     \u001b[0mlog\u001b[0m \u001b[1;33m=\u001b[0m \u001b[0mlog_converter\u001b[0m\u001b[1;33m.\u001b[0m\u001b[0mapply\u001b[0m\u001b[1;33m(\u001b[0m\u001b[0mlog\u001b[0m\u001b[1;33m,\u001b[0m \u001b[0mvariant\u001b[0m\u001b[1;33m=\u001b[0m\u001b[0mlog_converter\u001b[0m\u001b[1;33m.\u001b[0m\u001b[0mVariants\u001b[0m\u001b[1;33m.\u001b[0m\u001b[0mTO_DATA_FRAME\u001b[0m\u001b[1;33m)\u001b[0m\u001b[1;33m\u001b[0m\u001b[1;33m\u001b[0m\u001b[0m\n\u001b[0;32m     72\u001b[0m     \u001b[0mlog\u001b[0m \u001b[1;33m=\u001b[0m \u001b[0mdataframe_utils\u001b[0m\u001b[1;33m.\u001b[0m\u001b[0mconvert_timestamp_columns_in_df\u001b[0m\u001b[1;33m(\u001b[0m\u001b[0mlog\u001b[0m\u001b[1;33m)\u001b[0m\u001b[1;33m\u001b[0m\u001b[1;33m\u001b[0m\u001b[0m\n",
      "\u001b[1;32mC:\\ProgramData\\Anaconda3\\lib\\site-packages\\pm4py\\objects\\log\\importer\\xes\\importer.py\u001b[0m in \u001b[0;36mapply\u001b[1;34m(path, parameters, variant)\u001b[0m\n\u001b[0;32m     67\u001b[0m         \u001b[0mvariant\u001b[0m \u001b[1;33m=\u001b[0m \u001b[0mVariants\u001b[0m\u001b[1;33m.\u001b[0m\u001b[0mCHUNK_REGEX\u001b[0m\u001b[1;33m\u001b[0m\u001b[1;33m\u001b[0m\u001b[0m\n\u001b[0;32m     68\u001b[0m \u001b[1;33m\u001b[0m\u001b[0m\n\u001b[1;32m---> 69\u001b[1;33m     \u001b[0mlog\u001b[0m \u001b[1;33m=\u001b[0m \u001b[0mvariant\u001b[0m\u001b[1;33m.\u001b[0m\u001b[0mvalue\u001b[0m\u001b[1;33m.\u001b[0m\u001b[0mapply\u001b[0m\u001b[1;33m(\u001b[0m\u001b[0mpath\u001b[0m\u001b[1;33m,\u001b[0m \u001b[0mparameters\u001b[0m\u001b[1;33m=\u001b[0m\u001b[0mparameters\u001b[0m\u001b[1;33m)\u001b[0m\u001b[1;33m\u001b[0m\u001b[1;33m\u001b[0m\u001b[0m\n\u001b[0m\u001b[0;32m     70\u001b[0m \u001b[1;33m\u001b[0m\u001b[0m\n\u001b[0;32m     71\u001b[0m     \u001b[1;32mreturn\u001b[0m \u001b[0mlog\u001b[0m\u001b[1;33m\u001b[0m\u001b[1;33m\u001b[0m\u001b[0m\n",
      "\u001b[1;32mC:\\ProgramData\\Anaconda3\\lib\\site-packages\\pm4py\\objects\\log\\importer\\xes\\variants\\iterparse.py\u001b[0m in \u001b[0;36mapply\u001b[1;34m(filename, parameters)\u001b[0m\n\u001b[0;32m    298\u001b[0m         \u001b[0mA\u001b[0m \u001b[0mlog\u001b[0m\u001b[1;33m\u001b[0m\u001b[1;33m\u001b[0m\u001b[0m\n\u001b[0;32m    299\u001b[0m     \"\"\"\n\u001b[1;32m--> 300\u001b[1;33m     \u001b[1;32mreturn\u001b[0m \u001b[0mimport_log\u001b[0m\u001b[1;33m(\u001b[0m\u001b[0mfilename\u001b[0m\u001b[1;33m,\u001b[0m \u001b[0mparameters\u001b[0m\u001b[1;33m)\u001b[0m\u001b[1;33m\u001b[0m\u001b[1;33m\u001b[0m\u001b[0m\n\u001b[0m\u001b[0;32m    301\u001b[0m \u001b[1;33m\u001b[0m\u001b[0m\n\u001b[0;32m    302\u001b[0m \u001b[1;33m\u001b[0m\u001b[0m\n",
      "\u001b[1;32mC:\\ProgramData\\Anaconda3\\lib\\site-packages\\pm4py\\objects\\log\\importer\\xes\\variants\\iterparse.py\u001b[0m in \u001b[0;36mimport_log\u001b[1;34m(filename, parameters)\u001b[0m\n\u001b[0;32m    349\u001b[0m     \u001b[0mcontext\u001b[0m \u001b[1;33m=\u001b[0m \u001b[0metree\u001b[0m\u001b[1;33m.\u001b[0m\u001b[0miterparse\u001b[0m\u001b[1;33m(\u001b[0m\u001b[0mf\u001b[0m\u001b[1;33m,\u001b[0m \u001b[0mevents\u001b[0m\u001b[1;33m=\u001b[0m\u001b[1;33m[\u001b[0m\u001b[0m_EVENT_START\u001b[0m\u001b[1;33m,\u001b[0m \u001b[0m_EVENT_END\u001b[0m\u001b[1;33m]\u001b[0m\u001b[1;33m,\u001b[0m \u001b[0mencoding\u001b[0m\u001b[1;33m=\u001b[0m\u001b[0mencoding\u001b[0m\u001b[1;33m)\u001b[0m\u001b[1;33m\u001b[0m\u001b[1;33m\u001b[0m\u001b[0m\n\u001b[0;32m    350\u001b[0m \u001b[1;33m\u001b[0m\u001b[0m\n\u001b[1;32m--> 351\u001b[1;33m     \u001b[1;32mreturn\u001b[0m \u001b[0mimport_from_context\u001b[0m\u001b[1;33m(\u001b[0m\u001b[0mcontext\u001b[0m\u001b[1;33m,\u001b[0m \u001b[0mnum_traces\u001b[0m\u001b[1;33m,\u001b[0m \u001b[0mparameters\u001b[0m\u001b[1;33m=\u001b[0m\u001b[0mparameters\u001b[0m\u001b[1;33m)\u001b[0m\u001b[1;33m\u001b[0m\u001b[1;33m\u001b[0m\u001b[0m\n\u001b[0m\u001b[0;32m    352\u001b[0m \u001b[1;33m\u001b[0m\u001b[0m\n\u001b[0;32m    353\u001b[0m \u001b[1;33m\u001b[0m\u001b[0m\n",
      "\u001b[1;32mC:\\ProgramData\\Anaconda3\\lib\\site-packages\\pm4py\\objects\\log\\importer\\xes\\variants\\iterparse.py\u001b[0m in \u001b[0;36mimport_from_context\u001b[1;34m(context, num_traces, parameters)\u001b[0m\n\u001b[0;32m    110\u001b[0m     \u001b[0mtree\u001b[0m \u001b[1;33m=\u001b[0m \u001b[1;33m{\u001b[0m\u001b[1;33m}\u001b[0m\u001b[1;33m\u001b[0m\u001b[1;33m\u001b[0m\u001b[0m\n\u001b[0;32m    111\u001b[0m \u001b[1;33m\u001b[0m\u001b[0m\n\u001b[1;32m--> 112\u001b[1;33m     \u001b[1;32mfor\u001b[0m \u001b[0mtree_event\u001b[0m\u001b[1;33m,\u001b[0m \u001b[0melem\u001b[0m \u001b[1;32min\u001b[0m \u001b[0mcontext\u001b[0m\u001b[1;33m:\u001b[0m\u001b[1;33m\u001b[0m\u001b[1;33m\u001b[0m\u001b[0m\n\u001b[0m\u001b[0;32m    113\u001b[0m         \u001b[1;32mif\u001b[0m \u001b[0mtree_event\u001b[0m \u001b[1;33m==\u001b[0m \u001b[0m_EVENT_START\u001b[0m\u001b[1;33m:\u001b[0m  \u001b[1;31m# starting to read\u001b[0m\u001b[1;33m\u001b[0m\u001b[1;33m\u001b[0m\u001b[0m\n\u001b[0;32m    114\u001b[0m             \u001b[0mparent\u001b[0m \u001b[1;33m=\u001b[0m \u001b[0mtree\u001b[0m\u001b[1;33m[\u001b[0m\u001b[0melem\u001b[0m\u001b[1;33m.\u001b[0m\u001b[0mgetparent\u001b[0m\u001b[1;33m(\u001b[0m\u001b[1;33m)\u001b[0m\u001b[1;33m]\u001b[0m \u001b[1;32mif\u001b[0m \u001b[0melem\u001b[0m\u001b[1;33m.\u001b[0m\u001b[0mgetparent\u001b[0m\u001b[1;33m(\u001b[0m\u001b[1;33m)\u001b[0m \u001b[1;32min\u001b[0m \u001b[0mtree\u001b[0m \u001b[1;32melse\u001b[0m \u001b[1;32mNone\u001b[0m\u001b[1;33m\u001b[0m\u001b[1;33m\u001b[0m\u001b[0m\n",
      "\u001b[1;31mKeyboardInterrupt\u001b[0m: "
     ]
    }
   ],
   "source": [
    "log_17 = pm4py.read_xes('BPI 2017/Data.xes')"
   ]
  },
  {
   "cell_type": "code",
   "execution_count": 31,
   "id": "34b3abaa",
   "metadata": {},
   "outputs": [
    {
     "data": {
      "application/vnd.jupyter.widget-view+json": {
       "model_id": "ee7b6d46394f4852a20afb05ce9d98b3",
       "version_major": 2,
       "version_minor": 0
      },
      "text/plain": [
       "exporting log, completed traces ::   0%|          | 0/13087 [00:00<?, ?it/s]"
      ]
     },
     "metadata": {},
     "output_type": "display_data"
    },
    {
     "data": {
      "application/vnd.jupyter.widget-view+json": {
       "model_id": "e4fce7cfb62b41a58f796abfb66f09be",
       "version_major": 2,
       "version_minor": 0
      },
      "text/plain": [
       "exporting log, completed traces ::   0%|          | 0/31509 [00:00<?, ?it/s]"
      ]
     },
     "metadata": {},
     "output_type": "display_data"
    },
    {
     "data": {
      "application/vnd.jupyter.widget-view+json": {
       "model_id": "5da453c630e34790b1fc5f5d0006e3d7",
       "version_major": 2,
       "version_minor": 0
      },
      "text/plain": [
       "exporting log, completed traces ::   0%|          | 0/31509 [00:00<?, ?it/s]"
      ]
     },
     "metadata": {},
     "output_type": "display_data"
    }
   ],
   "source": [
    "A_prefix_17 = log_17[log_17[\"concept:name\"].str.startswith(\"A\")]\n",
    "Path(\"BPI 2017/A_prefix\").mkdir(parents=True, exist_ok=True)\n",
    "pm4py.write_xes(A_prefix_12, 'BPI 2017/A_prefix/Data.xes')\n",
    "\n",
    "O_prefix_17 = log_17[log_17[\"concept:name\"].str.startswith(\"O\")]\n",
    "Path(\"BPI 2017/O_prefix\").mkdir(parents=True, exist_ok=True)\n",
    "pm4py.write_xes(O_prefix_17, 'BPI 2017/O_prefix/Data.xes')\n",
    "\n",
    "W_prefix_17 = log_17[log_17[\"concept:name\"].str.startswith(\"W\")]\n",
    "Path(\"BPI 2017/w_prefix\").mkdir(parents=True, exist_ok=True)\n",
    "pm4py.write_xes(W_prefix_17, 'BPI 2017/w_prefix/Data.xes')"
   ]
  },
  {
   "cell_type": "code",
   "execution_count": 17,
   "id": "76bc96e8",
   "metadata": {},
   "outputs": [
    {
     "data": {
      "application/vnd.jupyter.widget-view+json": {
       "model_id": "4dde8ed3630442c3aeeac49e371a4881",
       "version_major": 2,
       "version_minor": 0
      },
      "text/plain": [
       "parsing log, completed traces ::   0%|          | 0/1143 [00:00<?, ?it/s]"
      ]
     },
     "metadata": {},
     "output_type": "display_data"
    }
   ],
   "source": [
    "log_hospital = pm4py.read_xes('Other/Hospital Log/Data.xes')"
   ]
  },
  {
   "cell_type": "code",
   "execution_count": 30,
   "id": "b380559b",
   "metadata": {},
   "outputs": [
    {
     "data": {
      "application/vnd.jupyter.widget-view+json": {
       "model_id": "5e5ccc082fd643bbb418d0658e57297f",
       "version_major": 2,
       "version_minor": 0
      },
      "text/plain": [
       "exporting log, completed traces ::   0%|          | 0/1143 [00:00<?, ?it/s]"
      ]
     },
     "metadata": {},
     "output_type": "display_data"
    }
   ],
   "source": [
    "log_hospital2 = log_hospital.copy()\n",
    "log_hospital2[\"concept:name\"] = log_hospital[\"concept:name\"].str.split().str.get(0)\n",
    "\n",
    "change = {\"albumineratio\": \"albumine\", \"alfa-1-foetoproteine\": \"alfa\", \"alfa-amylase\": \"alfa\", \"antist.\": \"antistoffen\",\n",
    " \"antist.tegen\": \"antistoffen\", \"bloedgroepbep.\": \"bloedgroepbepaling\", \"buikoverzicht\": \"buik\", \n",
    " \"creatinefosfokinase\": \"creatine\", \"creatinine\": \"creatine\", \"ct-gel.\": \"ct\", \"echografie-dopller\": \"echografie\", \n",
    " \"erythrocyten\": \"erytrocyten\", \"gammaglutamyltranspeptidase\": \"gamma\", \"hemoglobinen\": \"hemoglobine\",\n",
    " \"hepatitis-b-anti-core\": \"hepatitis-b\", \"huidplastiek-\": \"huid\", \"igg-index\": \"igg\", \"igm-as\": \"igm\",\n",
    " \"leukocyten\": \"leucocyten\", \"melkzuurdehydrogenase\": \"melkzuur\", \"oestron\": \"oestradiol\", \"onderz.\": \"onderzoek\"}\n",
    "\n",
    "for key, value in change.items():\n",
    "    log_hospital2.loc[log_hospital2[\"concept:name\"] == key, \"concept:name\"] = value\n",
    "    \n",
    "Path(\"Other/Hospital Log/Smaller\").mkdir(parents=True, exist_ok=True)\n",
    "pm4py.write_xes(log_hospital2, 'Other/Hospital Log/Smaller/Data.xes')"
   ]
  },
  {
   "cell_type": "code",
   "execution_count": 48,
   "id": "1a455e5d",
   "metadata": {
    "scrolled": true
   },
   "outputs": [
    {
     "data": {
      "application/vnd.jupyter.widget-view+json": {
       "model_id": "2581677e98574028b45c6e99f9e59391",
       "version_major": 2,
       "version_minor": 0
      },
      "text/plain": [
       "parsing log, completed traces ::   0%|          | 0/1050 [00:00<?, ?it/s]"
      ]
     },
     "metadata": {},
     "output_type": "display_data"
    }
   ],
   "source": [
    "log_sepsis = pm4py.read_xes('Sepsis Cases/Data.xes')"
   ]
  },
  {
   "cell_type": "code",
   "execution_count": 14,
   "id": "80a32068",
   "metadata": {},
   "outputs": [
    {
     "data": {
      "application/vnd.jupyter.widget-view+json": {
       "model_id": "153adde915534a5bb0deb2a369c910bc",
       "version_major": 2,
       "version_minor": 0
      },
      "text/plain": [
       "parsing log, completed traces ::   0%|          | 0/150370 [00:00<?, ?it/s]"
      ]
     },
     "metadata": {},
     "output_type": "display_data"
    }
   ],
   "source": [
    "# 'Insert Fine Notification', 'Send Fine', 'Create Fine' are perfectly correlated\n",
    "log_road = pm4py.read_xes('Traffic Fines/Data.xes')"
   ]
  },
  {
   "cell_type": "code",
   "execution_count": 3,
   "id": "0bd53890",
   "metadata": {},
   "outputs": [
    {
     "data": {
      "application/vnd.jupyter.widget-view+json": {
       "model_id": "fc04d59fba074b81bb6edf9e0fc0c5ce",
       "version_major": 2,
       "version_minor": 0
      },
      "text/plain": [
       "parsing log, completed traces ::   0%|          | 0/100000 [00:00<?, ?it/s]"
      ]
     },
     "metadata": {},
     "output_type": "display_data"
    }
   ],
   "source": [
    "log_billing = pm4py.read_xes('Hospital Billing/Data.xes')"
   ]
  },
  {
   "cell_type": "code",
   "execution_count": 1,
   "id": "67074dd0",
   "metadata": {},
   "outputs": [
    {
     "ename": "NameError",
     "evalue": "name 'pm4py' is not defined",
     "output_type": "error",
     "traceback": [
      "\u001b[1;31m---------------------------------------------------------------------------\u001b[0m",
      "\u001b[1;31mNameError\u001b[0m                                 Traceback (most recent call last)",
      "\u001b[1;32m<ipython-input-1-7cec81da8f65>\u001b[0m in \u001b[0;36m<module>\u001b[1;34m\u001b[0m\n\u001b[1;32m----> 1\u001b[1;33m \u001b[0mlog_20_domestic\u001b[0m \u001b[1;33m=\u001b[0m \u001b[0mpm4py\u001b[0m\u001b[1;33m.\u001b[0m\u001b[0mread_xes\u001b[0m\u001b[1;33m(\u001b[0m\u001b[1;34m'BPI 2020/DomesticDeclarations/Data.xes'\u001b[0m\u001b[1;33m)\u001b[0m\u001b[1;33m\u001b[0m\u001b[1;33m\u001b[0m\u001b[0m\n\u001b[0m",
      "\u001b[1;31mNameError\u001b[0m: name 'pm4py' is not defined"
     ]
    }
   ],
   "source": [
    "log_20_domestic = pm4py.read_xes('BPI 2020/DomesticDeclarations/Data.xes')"
   ]
  },
  {
   "cell_type": "code",
   "execution_count": 12,
   "id": "64c12dfc",
   "metadata": {},
   "outputs": [
    {
     "data": {
      "application/vnd.jupyter.widget-view+json": {
       "model_id": "184b99723ed54ffcb2586d53274d50d8",
       "version_major": 2,
       "version_minor": 0
      },
      "text/plain": [
       "parsing log, completed traces ::   0%|          | 0/6449 [00:00<?, ?it/s]"
      ]
     },
     "metadata": {},
     "output_type": "display_data"
    }
   ],
   "source": [
    "log_20_international = pm4py.read_xes('BPI 2020/InternationalDeclarations/Data.xes')"
   ]
  },
  {
   "cell_type": "code",
   "execution_count": 15,
   "id": "8bd3fbdd",
   "metadata": {},
   "outputs": [
    {
     "data": {
      "application/vnd.jupyter.widget-view+json": {
       "model_id": "62fc5331165247d1aafe76a5212ff081",
       "version_major": 2,
       "version_minor": 0
      },
      "text/plain": [
       "parsing log, completed traces ::   0%|          | 0/7065 [00:00<?, ?it/s]"
      ]
     },
     "metadata": {},
     "output_type": "display_data"
    }
   ],
   "source": [
    "log_20_permit = pm4py.read_xes('BPI 2020/PermitLog/Data.xes')"
   ]
  },
  {
   "cell_type": "code",
   "execution_count": 14,
   "id": "3f0832a1",
   "metadata": {},
   "outputs": [
    {
     "data": {
      "application/vnd.jupyter.widget-view+json": {
       "model_id": "6b79eb0d671f45b98bab8dd27f3f9c8c",
       "version_major": 2,
       "version_minor": 0
      },
      "text/plain": [
       "parsing log, completed traces ::   0%|          | 0/2099 [00:00<?, ?it/s]"
      ]
     },
     "metadata": {},
     "output_type": "display_data"
    }
   ],
   "source": [
    "log_20_prepaid = pm4py.read_xes('BPI 2020/PrepaidTravelCost/Data.xes')"
   ]
  },
  {
   "cell_type": "code",
   "execution_count": 5,
   "id": "acfc3810",
   "metadata": {},
   "outputs": [
    {
     "data": {
      "application/vnd.jupyter.widget-view+json": {
       "model_id": "6b484bc720f54715a7761f61b218b39c",
       "version_major": 2,
       "version_minor": 0
      },
      "text/plain": [
       "parsing log, completed traces ::   0%|          | 0/6886 [00:00<?, ?it/s]"
      ]
     },
     "metadata": {},
     "output_type": "display_data"
    }
   ],
   "source": [
    "log_20_request = pm4py.read_xes('BPI 2020/RequestForPayment/Data.xes')"
   ]
  },
  {
   "cell_type": "code",
   "execution_count": 6,
   "id": "a6f8dfb8",
   "metadata": {},
   "outputs": [
    {
     "data": {
      "text/html": [
       "<div>\n",
       "<style scoped>\n",
       "    .dataframe tbody tr th:only-of-type {\n",
       "        vertical-align: middle;\n",
       "    }\n",
       "\n",
       "    .dataframe tbody tr th {\n",
       "        vertical-align: top;\n",
       "    }\n",
       "\n",
       "    .dataframe thead th {\n",
       "        text-align: right;\n",
       "    }\n",
       "</style>\n",
       "<table border=\"1\" class=\"dataframe\">\n",
       "  <thead>\n",
       "    <tr style=\"text-align: right;\">\n",
       "      <th></th>\n",
       "      <th>id</th>\n",
       "      <th>org:resource</th>\n",
       "      <th>concept:name</th>\n",
       "      <th>time:timestamp</th>\n",
       "      <th>org:role</th>\n",
       "      <th>case:Rfp_id</th>\n",
       "      <th>case:Project</th>\n",
       "      <th>case:Task</th>\n",
       "      <th>case:concept:name</th>\n",
       "      <th>case:OrganizationalEntity</th>\n",
       "      <th>case:Cost Type</th>\n",
       "      <th>case:RequestedAmount</th>\n",
       "      <th>case:Activity</th>\n",
       "      <th>case:RfpNumber</th>\n",
       "    </tr>\n",
       "  </thead>\n",
       "  <tbody>\n",
       "    <tr>\n",
       "      <th>0</th>\n",
       "      <td>st_step 148220_0</td>\n",
       "      <td>STAFF MEMBER</td>\n",
       "      <td>Request For Payment SUBMITTED by EMPLOYEE</td>\n",
       "      <td>2017-01-09 08:17:18+00:00</td>\n",
       "      <td>EMPLOYEE</td>\n",
       "      <td>request for payment 148214</td>\n",
       "      <td>project 148216</td>\n",
       "      <td>UNKNOWN</td>\n",
       "      <td>request for payment 148214</td>\n",
       "      <td>organizational unit 65463</td>\n",
       "      <td>0</td>\n",
       "      <td>34.336343</td>\n",
       "      <td>UNKNOWN</td>\n",
       "      <td>request for payment number 148215</td>\n",
       "    </tr>\n",
       "    <tr>\n",
       "      <th>1</th>\n",
       "      <td>st_step 148221_0</td>\n",
       "      <td>STAFF MEMBER</td>\n",
       "      <td>Request For Payment FINAL_APPROVED by SUPERVISOR</td>\n",
       "      <td>2017-01-09 08:18:00+00:00</td>\n",
       "      <td>SUPERVISOR</td>\n",
       "      <td>request for payment 148214</td>\n",
       "      <td>project 148216</td>\n",
       "      <td>UNKNOWN</td>\n",
       "      <td>request for payment 148214</td>\n",
       "      <td>organizational unit 65463</td>\n",
       "      <td>0</td>\n",
       "      <td>34.336343</td>\n",
       "      <td>UNKNOWN</td>\n",
       "      <td>request for payment number 148215</td>\n",
       "    </tr>\n",
       "    <tr>\n",
       "      <th>2</th>\n",
       "      <td>st_step 148222_0</td>\n",
       "      <td>STAFF MEMBER</td>\n",
       "      <td>Request For Payment REJECTED by MISSING</td>\n",
       "      <td>2017-01-10 11:42:32+00:00</td>\n",
       "      <td>MISSING</td>\n",
       "      <td>request for payment 148214</td>\n",
       "      <td>project 148216</td>\n",
       "      <td>UNKNOWN</td>\n",
       "      <td>request for payment 148214</td>\n",
       "      <td>organizational unit 65463</td>\n",
       "      <td>0</td>\n",
       "      <td>34.336343</td>\n",
       "      <td>UNKNOWN</td>\n",
       "      <td>request for payment number 148215</td>\n",
       "    </tr>\n",
       "    <tr>\n",
       "      <th>3</th>\n",
       "      <td>st_step 148219_0</td>\n",
       "      <td>STAFF MEMBER</td>\n",
       "      <td>Request For Payment SUBMITTED by EMPLOYEE</td>\n",
       "      <td>2017-03-03 08:51:13+00:00</td>\n",
       "      <td>EMPLOYEE</td>\n",
       "      <td>request for payment 148214</td>\n",
       "      <td>project 148216</td>\n",
       "      <td>UNKNOWN</td>\n",
       "      <td>request for payment 148214</td>\n",
       "      <td>organizational unit 65463</td>\n",
       "      <td>0</td>\n",
       "      <td>34.336343</td>\n",
       "      <td>UNKNOWN</td>\n",
       "      <td>request for payment number 148215</td>\n",
       "    </tr>\n",
       "    <tr>\n",
       "      <th>4</th>\n",
       "      <td>st_step 148218_0</td>\n",
       "      <td>STAFF MEMBER</td>\n",
       "      <td>Request For Payment APPROVED by PRE_APPROVER</td>\n",
       "      <td>2017-03-03 08:51:42+00:00</td>\n",
       "      <td>PRE_APPROVER</td>\n",
       "      <td>request for payment 148214</td>\n",
       "      <td>project 148216</td>\n",
       "      <td>UNKNOWN</td>\n",
       "      <td>request for payment 148214</td>\n",
       "      <td>organizational unit 65463</td>\n",
       "      <td>0</td>\n",
       "      <td>34.336343</td>\n",
       "      <td>UNKNOWN</td>\n",
       "      <td>request for payment number 148215</td>\n",
       "    </tr>\n",
       "    <tr>\n",
       "      <th>...</th>\n",
       "      <td>...</td>\n",
       "      <td>...</td>\n",
       "      <td>...</td>\n",
       "      <td>...</td>\n",
       "      <td>...</td>\n",
       "      <td>...</td>\n",
       "      <td>...</td>\n",
       "      <td>...</td>\n",
       "      <td>...</td>\n",
       "      <td>...</td>\n",
       "      <td>...</td>\n",
       "      <td>...</td>\n",
       "      <td>...</td>\n",
       "      <td>...</td>\n",
       "    </tr>\n",
       "    <tr>\n",
       "      <th>36791</th>\n",
       "      <td>st_step 185004_0</td>\n",
       "      <td>STAFF MEMBER</td>\n",
       "      <td>Request For Payment APPROVED by ADMINISTRATION</td>\n",
       "      <td>2018-12-29 11:35:02+00:00</td>\n",
       "      <td>ADMINISTRATION</td>\n",
       "      <td>request for payment 185000</td>\n",
       "      <td>project 147860</td>\n",
       "      <td>task 152704</td>\n",
       "      <td>request for payment 185000</td>\n",
       "      <td>organizational unit 65468</td>\n",
       "      <td>0</td>\n",
       "      <td>15.409660</td>\n",
       "      <td>activity 505</td>\n",
       "      <td>request for payment number 185001</td>\n",
       "    </tr>\n",
       "    <tr>\n",
       "      <th>36792</th>\n",
       "      <td>st_step 185003_0</td>\n",
       "      <td>STAFF MEMBER</td>\n",
       "      <td>Request For Payment APPROVED by BUDGET OWNER</td>\n",
       "      <td>2019-01-03 08:27:20+00:00</td>\n",
       "      <td>BUDGET OWNER</td>\n",
       "      <td>request for payment 185000</td>\n",
       "      <td>project 147860</td>\n",
       "      <td>task 152704</td>\n",
       "      <td>request for payment 185000</td>\n",
       "      <td>organizational unit 65468</td>\n",
       "      <td>0</td>\n",
       "      <td>15.409660</td>\n",
       "      <td>activity 505</td>\n",
       "      <td>request for payment number 185001</td>\n",
       "    </tr>\n",
       "    <tr>\n",
       "      <th>36793</th>\n",
       "      <td>st_step 185005_0</td>\n",
       "      <td>STAFF MEMBER</td>\n",
       "      <td>Request For Payment FINAL_APPROVED by SUPERVISOR</td>\n",
       "      <td>2019-01-08 08:00:39+00:00</td>\n",
       "      <td>SUPERVISOR</td>\n",
       "      <td>request for payment 185000</td>\n",
       "      <td>project 147860</td>\n",
       "      <td>task 152704</td>\n",
       "      <td>request for payment 185000</td>\n",
       "      <td>organizational unit 65468</td>\n",
       "      <td>0</td>\n",
       "      <td>15.409660</td>\n",
       "      <td>activity 505</td>\n",
       "      <td>request for payment number 185001</td>\n",
       "    </tr>\n",
       "    <tr>\n",
       "      <th>36794</th>\n",
       "      <td>rp_request for payment 185000_15</td>\n",
       "      <td>SYSTEM</td>\n",
       "      <td>Request Payment</td>\n",
       "      <td>2019-01-08 08:29:14+00:00</td>\n",
       "      <td>UNDEFINED</td>\n",
       "      <td>request for payment 185000</td>\n",
       "      <td>project 147860</td>\n",
       "      <td>task 152704</td>\n",
       "      <td>request for payment 185000</td>\n",
       "      <td>organizational unit 65468</td>\n",
       "      <td>0</td>\n",
       "      <td>15.409660</td>\n",
       "      <td>activity 505</td>\n",
       "      <td>request for payment number 185001</td>\n",
       "    </tr>\n",
       "    <tr>\n",
       "      <th>36795</th>\n",
       "      <td>rp_request for payment 185000_16</td>\n",
       "      <td>SYSTEM</td>\n",
       "      <td>Payment Handled</td>\n",
       "      <td>2019-01-10 16:31:09+00:00</td>\n",
       "      <td>UNDEFINED</td>\n",
       "      <td>request for payment 185000</td>\n",
       "      <td>project 147860</td>\n",
       "      <td>task 152704</td>\n",
       "      <td>request for payment 185000</td>\n",
       "      <td>organizational unit 65468</td>\n",
       "      <td>0</td>\n",
       "      <td>15.409660</td>\n",
       "      <td>activity 505</td>\n",
       "      <td>request for payment number 185001</td>\n",
       "    </tr>\n",
       "  </tbody>\n",
       "</table>\n",
       "<p>36796 rows × 14 columns</p>\n",
       "</div>"
      ],
      "text/plain": [
       "                                     id  org:resource  \\\n",
       "0                      st_step 148220_0  STAFF MEMBER   \n",
       "1                      st_step 148221_0  STAFF MEMBER   \n",
       "2                      st_step 148222_0  STAFF MEMBER   \n",
       "3                      st_step 148219_0  STAFF MEMBER   \n",
       "4                      st_step 148218_0  STAFF MEMBER   \n",
       "...                                 ...           ...   \n",
       "36791                  st_step 185004_0  STAFF MEMBER   \n",
       "36792                  st_step 185003_0  STAFF MEMBER   \n",
       "36793                  st_step 185005_0  STAFF MEMBER   \n",
       "36794  rp_request for payment 185000_15        SYSTEM   \n",
       "36795  rp_request for payment 185000_16        SYSTEM   \n",
       "\n",
       "                                           concept:name  \\\n",
       "0             Request For Payment SUBMITTED by EMPLOYEE   \n",
       "1      Request For Payment FINAL_APPROVED by SUPERVISOR   \n",
       "2               Request For Payment REJECTED by MISSING   \n",
       "3             Request For Payment SUBMITTED by EMPLOYEE   \n",
       "4          Request For Payment APPROVED by PRE_APPROVER   \n",
       "...                                                 ...   \n",
       "36791    Request For Payment APPROVED by ADMINISTRATION   \n",
       "36792      Request For Payment APPROVED by BUDGET OWNER   \n",
       "36793  Request For Payment FINAL_APPROVED by SUPERVISOR   \n",
       "36794                                   Request Payment   \n",
       "36795                                   Payment Handled   \n",
       "\n",
       "                 time:timestamp        org:role                 case:Rfp_id  \\\n",
       "0     2017-01-09 08:17:18+00:00        EMPLOYEE  request for payment 148214   \n",
       "1     2017-01-09 08:18:00+00:00      SUPERVISOR  request for payment 148214   \n",
       "2     2017-01-10 11:42:32+00:00         MISSING  request for payment 148214   \n",
       "3     2017-03-03 08:51:13+00:00        EMPLOYEE  request for payment 148214   \n",
       "4     2017-03-03 08:51:42+00:00    PRE_APPROVER  request for payment 148214   \n",
       "...                         ...             ...                         ...   \n",
       "36791 2018-12-29 11:35:02+00:00  ADMINISTRATION  request for payment 185000   \n",
       "36792 2019-01-03 08:27:20+00:00    BUDGET OWNER  request for payment 185000   \n",
       "36793 2019-01-08 08:00:39+00:00      SUPERVISOR  request for payment 185000   \n",
       "36794 2019-01-08 08:29:14+00:00       UNDEFINED  request for payment 185000   \n",
       "36795 2019-01-10 16:31:09+00:00       UNDEFINED  request for payment 185000   \n",
       "\n",
       "         case:Project    case:Task           case:concept:name  \\\n",
       "0      project 148216      UNKNOWN  request for payment 148214   \n",
       "1      project 148216      UNKNOWN  request for payment 148214   \n",
       "2      project 148216      UNKNOWN  request for payment 148214   \n",
       "3      project 148216      UNKNOWN  request for payment 148214   \n",
       "4      project 148216      UNKNOWN  request for payment 148214   \n",
       "...               ...          ...                         ...   \n",
       "36791  project 147860  task 152704  request for payment 185000   \n",
       "36792  project 147860  task 152704  request for payment 185000   \n",
       "36793  project 147860  task 152704  request for payment 185000   \n",
       "36794  project 147860  task 152704  request for payment 185000   \n",
       "36795  project 147860  task 152704  request for payment 185000   \n",
       "\n",
       "       case:OrganizationalEntity  case:Cost Type  case:RequestedAmount  \\\n",
       "0      organizational unit 65463               0             34.336343   \n",
       "1      organizational unit 65463               0             34.336343   \n",
       "2      organizational unit 65463               0             34.336343   \n",
       "3      organizational unit 65463               0             34.336343   \n",
       "4      organizational unit 65463               0             34.336343   \n",
       "...                          ...             ...                   ...   \n",
       "36791  organizational unit 65468               0             15.409660   \n",
       "36792  organizational unit 65468               0             15.409660   \n",
       "36793  organizational unit 65468               0             15.409660   \n",
       "36794  organizational unit 65468               0             15.409660   \n",
       "36795  organizational unit 65468               0             15.409660   \n",
       "\n",
       "      case:Activity                     case:RfpNumber  \n",
       "0           UNKNOWN  request for payment number 148215  \n",
       "1           UNKNOWN  request for payment number 148215  \n",
       "2           UNKNOWN  request for payment number 148215  \n",
       "3           UNKNOWN  request for payment number 148215  \n",
       "4           UNKNOWN  request for payment number 148215  \n",
       "...             ...                                ...  \n",
       "36791  activity 505  request for payment number 185001  \n",
       "36792  activity 505  request for payment number 185001  \n",
       "36793  activity 505  request for payment number 185001  \n",
       "36794  activity 505  request for payment number 185001  \n",
       "36795  activity 505  request for payment number 185001  \n",
       "\n",
       "[36796 rows x 14 columns]"
      ]
     },
     "execution_count": 6,
     "metadata": {},
     "output_type": "execute_result"
    }
   ],
   "source": [
    "log_20_request[\"c\"]"
   ]
  }
 ],
 "metadata": {
  "kernelspec": {
   "display_name": "Python 3",
   "language": "python",
   "name": "python3"
  },
  "language_info": {
   "codemirror_mode": {
    "name": "ipython",
    "version": 3
   },
   "file_extension": ".py",
   "mimetype": "text/x-python",
   "name": "python",
   "nbconvert_exporter": "python",
   "pygments_lexer": "ipython3",
   "version": "3.8.8"
  }
 },
 "nbformat": 4,
 "nbformat_minor": 5
}
