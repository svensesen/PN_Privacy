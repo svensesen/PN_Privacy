{
 "cells": [
  {
   "cell_type": "code",
   "execution_count": 6,
   "id": "9dabffb2",
   "metadata": {},
   "outputs": [],
   "source": [
    "import os\n",
    "import time\n",
    "import subprocess"
   ]
  },
  {
   "cell_type": "code",
   "execution_count": 8,
   "id": "4f1aeeaa",
   "metadata": {},
   "outputs": [],
   "source": [
    "datasets = [\"BPI 2020/DomesticDeclarations\", \"BPI 2020/RequestForPayment\", \"Sepsis Cases\", \n",
    "            \"Traffic Fines\", \"Hospital Billing\", \"BPI 2020/InternationalDeclarations\", \"BPI 2020/PrepaidTravelCost\",\n",
    "            \"BPI 2012\",\"BPI 2020/PermitLog\",  \"BPI 2017\"]\n",
    "\n",
    "models = [\"Alpha_\", \"Alpha+_\", \"IM_\", \"IMf20_\", \"Heuristic_\", \"Flower_\"]\n",
    "types = [\"BillClintonEstimator\", \"AlignmentEstimator\"]"
   ]
  },
  {
   "cell_type": "code",
   "execution_count": 9,
   "id": "6306702a",
   "metadata": {},
   "outputs": [],
   "source": [
    "def write_instance(folder, models, estimators, file_location):\n",
    "    with open(file_location, \"w\") as f:\n",
    "        f.write(f\"mr.data.dir=data/{folder}\\n\")\n",
    "        f.write(\"mr.data.files=data.xes\\n\")\n",
    "        f.write(f\"mr.model.dir=data/{folder}\\n\")\n",
    "        f.write(f\"mr.model.files={','.join([i+'.pnml' for i in models])}\\n\")\n",
    "        f.write(f\"mr.output.dir=var/{folder}\\n\")\n",
    "        f.write(\"mr.export.dot=true\\n\")\n",
    "        f.write(f\"mr.estimators={''.join(estimators)}\\n\")\n",
    "        f.write(\"mr.calculators=EarthMoversTunedCalculator\")"
   ]
  },
  {
   "cell_type": "code",
   "execution_count": 10,
   "id": "8882eb19",
   "metadata": {},
   "outputs": [
    {
     "name": "stdout",
     "output_type": "stream",
     "text": [
      "BillClintonEstimator, BPI 2020/DomesticDeclarations, Alpha_\n"
     ]
    },
    {
     "ename": "KeyboardInterrupt",
     "evalue": "",
     "output_type": "error",
     "traceback": [
      "\u001b[1;31m---------------------------------------------------------------------------\u001b[0m",
      "\u001b[1;31mKeyboardInterrupt\u001b[0m                         Traceback (most recent call last)",
      "\u001b[1;32m<ipython-input-10-f7d39086c4cc>\u001b[0m in \u001b[0;36m<module>\u001b[1;34m\u001b[0m\n\u001b[0;32m     17\u001b[0m                     \u001b[0mprint\u001b[0m\u001b[1;33m(\u001b[0m\u001b[1;34m\"Terminated due to timeout.\"\u001b[0m\u001b[1;33m)\u001b[0m\u001b[1;33m\u001b[0m\u001b[1;33m\u001b[0m\u001b[0m\n\u001b[0;32m     18\u001b[0m                     \u001b[1;32mbreak\u001b[0m\u001b[1;33m\u001b[0m\u001b[1;33m\u001b[0m\u001b[0m\n\u001b[1;32m---> 19\u001b[1;33m                 \u001b[0mtime\u001b[0m\u001b[1;33m.\u001b[0m\u001b[0msleep\u001b[0m\u001b[1;33m(\u001b[0m\u001b[1;36m1\u001b[0m\u001b[1;33m)\u001b[0m\u001b[1;33m\u001b[0m\u001b[1;33m\u001b[0m\u001b[0m\n\u001b[0m\u001b[0;32m     20\u001b[0m \u001b[1;33m\u001b[0m\u001b[0m\n\u001b[0;32m     21\u001b[0m             \u001b[1;32mif\u001b[0m \u001b[1;32mnot\u001b[0m \u001b[0mfailed\u001b[0m\u001b[1;33m:\u001b[0m\u001b[1;33m\u001b[0m\u001b[1;33m\u001b[0m\u001b[0m\n",
      "\u001b[1;31mKeyboardInterrupt\u001b[0m: "
     ]
    }
   ],
   "source": [
    "# Run the Stochasticitation\n",
    "for stochastic_type in types:\n",
    "    for dataset in datasets:\n",
    "        for model in models:\n",
    "            print(f\"{stochastic_type}, {dataset}, {model}\")\n",
    "            write_instance(dataset, [model], [stochastic_type], \"Stochastic Creation Paper Code\\spd_we-master\\config\\instance.properties\")\n",
    "            \n",
    "            failed = False\n",
    "            start_time = time.time()\n",
    "            \n",
    "            p = subprocess.Popen([r\"Big_test.bat\"])\n",
    "            \n",
    "            while p.poll() is None:\n",
    "                if time.time() - start_time >= 600:\n",
    "                    p.terminate()\n",
    "                    failed = True\n",
    "                    print(\"Terminated due to timeout.\")\n",
    "                    break\n",
    "                time.sleep(1)\n",
    "            \n",
    "            if not failed:\n",
    "                print(f\"Process finished with return code: {p.returncode}\")"
   ]
  }
 ],
 "metadata": {
  "kernelspec": {
   "display_name": "Python 3",
   "language": "python",
   "name": "python3"
  },
  "language_info": {
   "codemirror_mode": {
    "name": "ipython",
    "version": 3
   },
   "file_extension": ".py",
   "mimetype": "text/x-python",
   "name": "python",
   "nbconvert_exporter": "python",
   "pygments_lexer": "ipython3",
   "version": "3.8.8"
  }
 },
 "nbformat": 4,
 "nbformat_minor": 5
}
